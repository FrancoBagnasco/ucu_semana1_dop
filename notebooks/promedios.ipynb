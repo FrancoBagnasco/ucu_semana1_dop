{
 "cells": [
  {
   "cell_type": "code",
   "execution_count": 3,
   "metadata": {},
   "outputs": [
    {
     "name": "stdout",
     "output_type": "stream",
     "text": [
      "El promedio de todos los numeros del archivo txt es: 38549\n"
     ]
    }
   ],
   "source": [
    "import re\n",
    "\n",
    "file = open('../data/mbox.txt')\n",
    "data = []\n",
    "\n",
    "for line in file:\n",
    "    line = line.strip()\n",
    "    numbers = re.findall(r'New Revision:\\s*(\\d+)', line)\n",
    "    data.extend(numbers)\n",
    "    \n",
    "data = [int(numbers) for numbers in data]\n",
    "    \n",
    "promedio = int(sum(data) / len(data))\n",
    "\n",
    "print(f\"El promedio de todos los numeros del archivo txt es: {promedio}\")"
   ]
  },
  {
   "cell_type": "code",
   "execution_count": 4,
   "metadata": {},
   "outputs": [
    {
     "name": "stdout",
     "output_type": "stream",
     "text": [
      "El promedio de todos los numeros del archivo txt es: 39756\n"
     ]
    }
   ],
   "source": [
    "import re\n",
    "\n",
    "file = open('../data/mbox-short.txt')\n",
    "data = []\n",
    "\n",
    "for line in file:\n",
    "    line = line.strip()\n",
    "    numbers = re.findall(r'New Revision:\\s*(\\d+)', line)\n",
    "    data.extend(numbers)\n",
    "    \n",
    "data = [int(numbers) for numbers in data]\n",
    "    \n",
    "promedio = int(sum(data) / len(data))\n",
    "\n",
    "print(f\"El promedio de todos los numeros del archivo txt es: {promedio}\")"
   ]
  }
 ],
 "metadata": {
  "kernelspec": {
   "display_name": "Python 3",
   "language": "python",
   "name": "python3"
  },
  "language_info": {
   "codemirror_mode": {
    "name": "ipython",
    "version": 3
   },
   "file_extension": ".py",
   "mimetype": "text/x-python",
   "name": "python",
   "nbconvert_exporter": "python",
   "pygments_lexer": "ipython3",
   "version": "3.11.3"
  },
  "orig_nbformat": 4
 },
 "nbformat": 4,
 "nbformat_minor": 2
}
