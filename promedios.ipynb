{
  "nbformat": 4,
  "nbformat_minor": 0,
  "metadata": {
    "colab": {
      "provenance": [],
      "toc_visible": true,
      "authorship_tag": "ABX9TyM/vT77Ku2jWWsxDku8i9UF"
    },
    "kernelspec": {
      "name": "python3",
      "display_name": "Python 3"
    },
    "language_info": {
      "name": "python"
    }
  },
  "cells": [
    {
      "cell_type": "code",
      "execution_count": 3,
      "metadata": {
        "colab": {
          "base_uri": "https://localhost:8080/",
          "height": 245
        },
        "id": "hee6rGfJ3Z-e",
        "outputId": "1976c2ca-a24a-4e01-de9d-774517d45688"
      },
      "outputs": [
        {
          "output_type": "error",
          "ename": "FileNotFoundError",
          "evalue": "ignored",
          "traceback": [
            "\u001b[0;31m---------------------------------------------------------------------------\u001b[0m",
            "\u001b[0;31mFileNotFoundError\u001b[0m                         Traceback (most recent call last)",
            "\u001b[0;32m<ipython-input-3-7ac417d3f916>\u001b[0m in \u001b[0;36m<cell line: 3>\u001b[0;34m()\u001b[0m\n\u001b[1;32m      1\u001b[0m \u001b[0;32mimport\u001b[0m \u001b[0mre\u001b[0m\u001b[0;34m\u001b[0m\u001b[0;34m\u001b[0m\u001b[0m\n\u001b[1;32m      2\u001b[0m \u001b[0;34m\u001b[0m\u001b[0m\n\u001b[0;32m----> 3\u001b[0;31m \u001b[0mfile\u001b[0m \u001b[0;34m=\u001b[0m \u001b[0mopen\u001b[0m\u001b[0;34m(\u001b[0m\u001b[0;34m'../data/mbox.txt'\u001b[0m\u001b[0;34m)\u001b[0m\u001b[0;34m\u001b[0m\u001b[0;34m\u001b[0m\u001b[0m\n\u001b[0m\u001b[1;32m      4\u001b[0m \u001b[0mdata\u001b[0m \u001b[0;34m=\u001b[0m \u001b[0;34m[\u001b[0m\u001b[0;34m]\u001b[0m\u001b[0;34m\u001b[0m\u001b[0;34m\u001b[0m\u001b[0m\n\u001b[1;32m      5\u001b[0m \u001b[0;34m\u001b[0m\u001b[0m\n",
            "\u001b[0;31mFileNotFoundError\u001b[0m: [Errno 2] No such file or directory: '../data/mbox.txt'"
          ]
        }
      ],
      "source": [
        "import re\n",
        "\n",
        "file = open('../data/mbox.txt')\n",
        "data = []\n",
        "\n",
        "for line in file:\n",
        "    line = line.strip()\n",
        "    numbers = re.findall(r'New Revision:\\s*(\\d+)', line)\n",
        "    data.extend(numbers)\n",
        "\n",
        "data = [int(numbers) for numbers in data]\n",
        "\n",
        "promedio = int(sum(data) / len(data))\n",
        "\n",
        "print(f\"El promedio de todos los numeros del archivo txt es: {promedio}\")"
      ]
    },
    {
      "cell_type": "code",
      "source": [
        "import re\n",
        "\n",
        "file = open('../data/mbox-short.txt')\n",
        "data = []\n",
        "\n",
        "for line in file:\n",
        "    line = line.strip()\n",
        "    numbers = re.findall(r'New Revision:\\s*(\\d+)', line)\n",
        "    data.extend(numbers)\n",
        "\n",
        "data = [int(numbers) for numbers in data]\n",
        "\n",
        "promedio = int(sum(data) / len(data))\n",
        "\n",
        "print(f\"El promedio de todos los numeros del archivo txt es: {promedio}\")"
      ],
      "metadata": {
        "id": "GFIwQn954K4F"
      },
      "execution_count": null,
      "outputs": []
    }
  ]
}